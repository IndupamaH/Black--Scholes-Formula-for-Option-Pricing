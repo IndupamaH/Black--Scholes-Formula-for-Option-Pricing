{
 "cells": [
  {
   "cell_type": "markdown",
   "id": "cbf44bf8",
   "metadata": {},
   "source": [
    "# Black -Scholes Formula for Option Pricing"
   ]
  },
  {
   "cell_type": "markdown",
   "id": "1c24c837",
   "metadata": {},
   "source": [
    "# Content\n",
    "* [1. Black–Scholes Equation](#1.-Black–Scholes–Equation)\n",
    "* [2. Assumptions of the Black Scholes Model](#2.-Assumptions-of-the-Black-Scholes-Model)\n",
    "* [3. Black Scholes Merton Model](#3.-Black–Scholes–Merton-Model)\n",
    "* [4. Sensitivity Analysis of Black Scholes Model-Greeks](#Sensitivity-Analysis-of-Black-Scholes-Model-Greeks)\n",
    "* [5. Modification of the Black Scholes formula to price options on stocks that pay dividends](4.-Modification-of-the-Black-Scholes-formula-to-price-options-on-stocks-that-pay-dividends)"
   ]
  },
  {
   "cell_type": "markdown",
   "id": "27b69d32",
   "metadata": {},
   "source": [
    "# 1. Black–Scholes Equation\n",
    " \n",
    "\n",
    "The Black-Scholes formula is a mathematical model used for calculating the theoretical price of European-style options. It was developed by economists Fischer Black and Myron Scholes in 1973. The formula takes into account various factors such as the current stock price, the option's strike price, the time to expiration, the risk-free interest rate, and the volatility of the underlying stock. \n",
    "This model is derived from the partial differential equation (PDE), Black-Scholes equation given by ,\n",
    "$$\\frac{\\partial V}{\\partial t} + \\frac{1}{2} \\sigma ^2 S^2 \\frac{\\partial^2 V}{\\partial S^2}+rS\\frac{\\partial V}{\\partial S}-rV=0 \\,, \\text{where}$$\n",
    "\n",
    "$V(S,t)$ is the price of the option of stock price(asset) $S$ and time $t$\n",
    "\n",
    "$r$ is the risk free interest rate\n",
    "\n",
    "$\\sigma$ is the volatility of the stock(asset)\n",
    "\n",
    "A closed form solution is available for this PDE under the following assumptions.\n",
    "\n"
   ]
  },
  {
   "cell_type": "markdown",
   "id": "1ee66a5f",
   "metadata": {},
   "source": [
    "# 2. Assumptions of the Black-Scholes-Model\n",
    "\n",
    "* **Constant Volatility** ($\\sigma$): The model assumes that the volatility of the underlying stock is constant over the life of the option. In reality, volatility can change over time.\n",
    "\n",
    "\n",
    "* **Continuous Trading**: The model assumes that it is possible to buy or sell any amount of the underlying asset at any time. This implies continuous trading without transaction costs or market frictions, which may not be true in real-world situations.\n",
    "\n",
    "\n",
    "* **Constant Risk-Free Interest Rate** ($r$) : The risk-free interest rate is assumed to be constant and known throughout the option's life. In practice, interest rates can change, and the assumption of a constant rate simplifies the calculations.\n",
    "\n",
    "\n",
    "* **No Dividends**: The original Black-Scholes model assumes that the underlying stock does not pay any dividends during the life of the option. However, there are modifications of the model that incorporate dividends.\n",
    "\n",
    "\n",
    "* **Log-Normal Distribution of Stock Prices**: The model assumes that the distribution of stock prices follows a log-normal distribution. This implies that stock prices cannot become negative and that extreme price movements are less likely than in a normal distribution.\n",
    "\n",
    "\n",
    "* **European-Style Options**: The model is specifically designed for European-style options, which can only be exercised at expiration. This assumption simplifies the model but may not be suitable for American-style options, which can be exercised at any time before expiration.\n",
    "\n",
    "\n",
    "* **No Transaction Costs or Taxes**: The model assumes that there are no transaction costs, taxes, or other frictions associated with buying or selling the underlying asset or the option.\n",
    "\n",
    "\n",
    "* **Efficient Markets**: The model assumes that markets are efficient and that all information relevant to the option is already reflected in the stock price. This assumption is part of the efficient market hypothesis.\n"
   ]
  },
  {
   "cell_type": "markdown",
   "id": "848da0ba",
   "metadata": {},
   "source": [
    "# 3. Black–Scholes–Merton Model\n",
    "\n",
    "The solution to the Black Scholes equation under the assumptions given above is known as the Black Scholes formula and is given by \n",
    "\n",
    "$$d_1 = \\frac{\\ln(\\frac{S}{K})+(r+\\frac{\\sigma^2}{2})T}{\\sigma \\sqrt{T}}$$\n",
    "\n",
    "$$d_2 = d_1- \\sigma \\sqrt{T}$$\n",
    "\n",
    "$$C = SN(d_1)-Ke^{-rt} N(d_2)$$ \n",
    "\n",
    "$$P = K e^{-rT}N(-d_2)-SN(-d_1)\\,, \\text{where} $$\n",
    "\n",
    "$C$ is the call option price\n",
    "\n",
    "$P$ is the put option price\n",
    "\n",
    "$S$ is the currect stock(underlying asset) price\n",
    "\n",
    "$K$  is the strike price\n",
    "\n",
    "$T$ is the time to maturity\n",
    "\n",
    "$\\sigma$ is the volatility of the stock (asset)\n",
    "\n",
    "$r$ is the risk free interest rate\n",
    "\n",
    "$N$ is the CDF of the normal dirtribution\n"
   ]
  },
  {
   "cell_type": "code",
   "execution_count": 9,
   "id": "1591c388",
   "metadata": {},
   "outputs": [
    {
     "name": "stdout",
     "output_type": "stream",
     "text": [
      "Requirement already satisfied: numpy in c:\\users\\indup\\anaconda3\\lib\\site-packages (1.21.5)\n",
      "Requirement already satisfied: scipy in c:\\users\\indup\\anaconda3\\lib\\site-packages (1.9.1)\n",
      "Note: you may need to restart the kernel to use updated packages.\n"
     ]
    }
   ],
   "source": [
    "pip install numpy scipy"
   ]
  },
  {
   "cell_type": "code",
   "execution_count": 12,
   "id": "a4f33abe",
   "metadata": {},
   "outputs": [],
   "source": [
    "# Example usage:\n",
    "S = 30  # Current stock price\n",
    "K = 40  # Option strike price\n",
    "T = 240/365    # Time to expiration in years\n",
    "r = 0.01  # Risk-free interest rate\n",
    "sigma = 0.3  # Volatility"
   ]
  },
  {
   "cell_type": "code",
   "execution_count": 13,
   "id": "20da6570",
   "metadata": {},
   "outputs": [],
   "source": [
    "import numpy as np\n",
    "from scipy.stats import norm\n",
    "\n",
    "def black_scholes_call(S, K, T, r, sigma):\n",
    "    d1 = (np.log(S / K) + (r + 0.5 * sigma**2) * T) / (sigma * np.sqrt(T))\n",
    "    d2 = d1 - sigma * np.sqrt(T)\n",
    "\n",
    "    call_price = S * norm.cdf(d1) - K * np.exp(-r * T) * norm.cdf(d2)\n",
    "    return call_price\n",
    "\n",
    "def black_scholes_put(S, K, T, r, sigma):\n",
    "    d1 = (np.log(S / K) + (r + 0.5 * sigma**2) * T) / (sigma * np.sqrt(T))\n",
    "    d2 = d1 - sigma * np.sqrt(T)\n",
    "\n",
    "    put_price = K * np.exp(-r * T) * norm.cdf(-d2) - S * norm.cdf(-d1)\n",
    "    return put_price\n"
   ]
  },
  {
   "cell_type": "code",
   "execution_count": 16,
   "id": "5c773b9b",
   "metadata": {},
   "outputs": [
    {
     "name": "stdout",
     "output_type": "stream",
     "text": [
      "Call Option Price: 0.5133\n",
      "Put Option Price: 10.2511\n"
     ]
    }
   ],
   "source": [
    "call_price = black_scholes_call(S, K, T, r, sigma)\n",
    "put_price = black_scholes_put(S, K, T, r, sigma)\n",
    "\n",
    "print(f\"Call Option Price: {call_price:.4f}\")\n",
    "print(f\"Put Option Price: {put_price:.4f}\")"
   ]
  },
  {
   "cell_type": "markdown",
   "id": "a80c8b1a",
   "metadata": {},
   "source": [
    "# 4. Sensitivity Analysis of Black Scholes Model-Greeks\n",
    "\n",
    "In options trading, \"Greeks\" refer to a set of risk measures that help quantify the sensitivity of an option's price to changes in various factors. The most common Greeks are Delta, Gamma, Theta, Vega, and Rho. The Greeks are the partial derivatives of the price with respect to the parameter values. They are given as follows.\n",
    "\n",
    "**Delta ($\\Delta$)** represents the sensitivity of the option price to changes in the underlying asset's price.\n",
    "\n",
    "For a call option $\\Delta =  N(d_1)$.\n",
    "\n",
    "For a put option $\\Delta = N(d_1)-1$.\n",
    "\n",
    "**Gamma ($\\Gamma$)** measures the rate of change of Delta with respect to changes in the underlying asset's price.\n",
    "\n",
    "For both call and put options $\\Gamma =  \\frac{N'(d_1)}{S\\sigma \\sqrt{T}}$, where $N'$ is the probability density function of the standard normal distribution. \n",
    "\n",
    "**Theta ($\\Theta$)** represents the sensitivity of the option price to changes in time to expiration.\n",
    "\n",
    "For a call option $\\Theta = -\\frac{S\\sigma}{2\\sqrt{T}}N'(d_1)-rKe^{-rT}N(d_2)$.\n",
    "\n",
    "For a put option $\\Theta =  -\\frac{S\\sigma}{2\\sqrt{T}}N'(d_1)+rKe^{-rT}N(-d_2)$.\n",
    "\n",
    "**Vega ($\\nu$)** measures the sensitivity of the option price to changes in volatility.\n",
    "For both call and put options $\\nu = S\\sqrt{T}N'(d_1)$. \n",
    "\n",
    "In practice, this is measured as the option price to one percent change in volatility. \n",
    "\n",
    "**Rho ($\\rho$)** represents the sensitivity of the option price to changes in the risk-free interest rate.\n",
    "\n",
    "For a call option $\\rho = KTe^{-rT}N(d_2)$.\n",
    "\n",
    "For a put option $\\rho = -KTe^{-rT}N(-d_2)$."
   ]
  },
  {
   "cell_type": "code",
   "execution_count": 20,
   "id": "63ba22fc",
   "metadata": {},
   "outputs": [
    {
     "name": "stdout",
     "output_type": "stream",
     "text": [
      "Delta: 0.1506\n",
      "Gamma: 0.0320\n",
      "Theta: -0.0436\n",
      "Vega: 0.0569\n",
      "Rho: 0.0263\n"
     ]
    }
   ],
   "source": [
    "def calculate_greeks(S, K, T, r, sigma, option_type='call'):\n",
    "    d1 = (np.log(S / K) + (r + 0.5 * sigma**2) * T) / (sigma * np.sqrt(T))\n",
    "    d2 = d1 - sigma * np.sqrt(T)    \n",
    "    \n",
    "    N_d1 = norm.cdf(d1)\n",
    "    N_prime_d1 = norm.pdf(d1)\n",
    "    N_d2 = norm.cdf(d2)\n",
    "\n",
    "    #delta\n",
    "    delta = N_d1 if option_type == 'call' else N_d1 - 1\n",
    "    #gamma\n",
    "    gamma = N_prime_d1 / (S * sigma * np.sqrt(T))\n",
    "    #theta\n",
    "    if option_type == 'call':\n",
    "        theta = 1/365 * (-0.5) * S * sigma / np.sqrt(T) * N_prime_d1 - r * K * np.exp(-r * T) * N_d2  #divide by 365 to measure change in price daily\n",
    "    else:\n",
    "        theta = 1/365 * (-0.5) * S * sigma / np.sqrt(T) * N_prime_d1 + r * K * np.exp(-r * T) * norm.cdf(-d2)\n",
    "    #vega\n",
    "    vega = 0.01 * S * np.sqrt(T) * N_prime_d1 # we multiply by 0.01 because in practice this is measured as the price change to \n",
    "    #one percent change in volatility.\n",
    "    #rho\n",
    "    rho = 0.01 * K * T * np.exp(-r * T) * N_d2 if option_type == 'call' else -K * T * np.exp(-r * T) * norm.cdf(-d2)\n",
    "    # we multiply by 0.01 because in practice this is measured as the price change to \n",
    "    #one percent change in interest rate.\n",
    "    return delta, gamma, theta, vega, rho\n",
    "\n",
    "# Example usage:\n",
    "delta, gamma, theta, vega, rho = calculate_greeks(S, K, T, r, sigma, option_type='call')\n",
    "print(f\"Delta: {delta:.4f}\")\n",
    "print(f\"Gamma: {gamma:.4f}\")\n",
    "print(f\"Theta: {theta:.4f}\")\n",
    "print(f\"Vega: {vega:.4f}\")\n",
    "print(f\"Rho: {rho:.4f}\")"
   ]
  },
  {
   "cell_type": "markdown",
   "id": "7623291f",
   "metadata": {},
   "source": [
    "# 5. Modification of the Black Scholes formula to price options on stocks that pay dividends\n",
    "\n",
    "Notice that the Black Scholes formula given above is derived under the assumption that the underlying stock does not pay any dividends during the life of the option. However, the model can be modified by incorporating dividends.\n",
    "\n",
    "Suppose that the dividends are paid continuously. Then the adjusted stock price is calculated by subtracting the present value of the expected dividend during the life of the option from the current stock price. Then the modified formula is \n",
    "\n",
    "$$C = Se^{-qT}N(d_1)-Ke^{-rt} N(d_2)$$ \n",
    "\n",
    "$$P = K e^{-rT}N(-d_2)-Se^{-qT}N(-d_1)\\,, \\text{where} $$\n",
    "\n",
    "$$d_1 = \\frac{\\ln(\\frac{S}{K})+(r-q+\\frac{\\sigma^2}{2})T}{\\sigma \\sqrt{T}}$$\n",
    "\n",
    "$$d_2 = d_1- \\sigma \\sqrt{T}\\,, \\text{where}$$\n",
    "\n",
    "$q$ is the dividend yield and other notations have same meanings as before. "
   ]
  },
  {
   "cell_type": "code",
   "execution_count": 7,
   "id": "f76a9785",
   "metadata": {},
   "outputs": [],
   "source": [
    "import numpy as np\n",
    "from scipy.stats import norm\n",
    "\n",
    "def black_scholes_dividend_call(S, K, T, r, q, sigma):\n",
    "    d1 = (np.log(S / K) + (r - q + 0.5 * sigma**2) * T) / (sigma * np.sqrt(T))\n",
    "    d2 = d1 - sigma * np.sqrt(T)\n",
    "\n",
    "    call_price = S * np.exp(-q * T) * norm.cdf(d1) - K * np.exp(-r * T) * norm.cdf(d2)\n",
    "    return call_price\n",
    "\n",
    "def black_scholes_dividend_put(S, K, T, r, q, sigma):\n",
    "    d1 = (np.log(S / K) + (r + 0.5 * sigma**2) * T) / (sigma * np.sqrt(T))\n",
    "    d2 = d1 - sigma * np.sqrt(T)\n",
    "\n",
    "    put_price = K * np.exp(-r * T) * norm.cdf(-d2) - S * np.exp(-q * T) * norm.cdf(-d1)\n",
    "    return put_price\n"
   ]
  },
  {
   "cell_type": "code",
   "execution_count": 8,
   "id": "af3e5917",
   "metadata": {},
   "outputs": [
    {
     "name": "stdout",
     "output_type": "stream",
     "text": [
      "Call Option Price: 3.5704\n",
      "Put Option Price: 10.6322\n"
     ]
    }
   ],
   "source": [
    "# Example usage:\n",
    "S = 100  # Current stock price\n",
    "X = 100  # Option strike price\n",
    "T = 1    # Time to expiration in years\n",
    "r = 0.05  # Risk-free interest rate\n",
    "sigma = 0.2  # Volatility\n",
    "q =  0.15  #dividend yield\n",
    "\n",
    "call_price = black_scholes_dividend_call(S, X, T, r, q, sigma)\n",
    "put_price = black_scholes_dividend_put(S, X, T, r, q, sigma)\n",
    "\n",
    "print(f\"Call Option Price: {call_price:.4f}\")\n",
    "print(f\"Put Option Price: {put_price:.4f}\")"
   ]
  },
  {
   "cell_type": "code",
   "execution_count": null,
   "id": "40aa0bd1",
   "metadata": {},
   "outputs": [],
   "source": []
  }
 ],
 "metadata": {
  "kernelspec": {
   "display_name": "Python 3 (ipykernel)",
   "language": "python",
   "name": "python3"
  },
  "language_info": {
   "codemirror_mode": {
    "name": "ipython",
    "version": 3
   },
   "file_extension": ".py",
   "mimetype": "text/x-python",
   "name": "python",
   "nbconvert_exporter": "python",
   "pygments_lexer": "ipython3",
   "version": "3.9.13"
  }
 },
 "nbformat": 4,
 "nbformat_minor": 5
}
